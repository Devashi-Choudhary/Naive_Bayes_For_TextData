{
 "cells": [
  {
   "cell_type": "markdown",
   "metadata": {},
   "source": [
    "# Preprocessing"
   ]
  },
  {
   "cell_type": "code",
   "execution_count": 28,
   "metadata": {},
   "outputs": [],
   "source": [
    "from nltk.tokenize import RegexpTokenizer\n",
    "from nltk.stem import WordNetLemmatizer\n",
    "wordnet_lemmatizer = WordNetLemmatizer()\n",
    "from nltk.stem.porter import PorterStemmer\n",
    "porter_stemmer  = PorterStemmer()\n",
    "import re\n",
    "import inflect\n",
    "def Pre_Processing(file):\n",
    "    token_files=[] \n",
    "    after_lower=[]\n",
    "    after_lemmatizer=[]\n",
    "    after_stemming=[]\n",
    "    tokenizer = RegexpTokenizer(r'\\w+')\n",
    "    tokens=(tokenizer.tokenize(file))\n",
    "    p = inflect.engine()\n",
    "    token_files=[]\n",
    "    for i in range(len(tokens)):\n",
    "        if tokens[i].isnumeric() and len(tokens[i])<36:\n",
    "            tem=p.number_to_words((tokens[i]))\n",
    "            tokenizer = RegexpTokenizer(r'\\w+')\n",
    "            temp=(tokenizer.tokenize(tem))\n",
    "            for x in temp:\n",
    "                token_files.append(x)\n",
    "        elif tokens[i].isnumeric() and len(tokens[i])>36:\n",
    "            for j in range(len(tokens[i])):\n",
    "                token_files.append(p.number_to_words((tokens[i][j])))\n",
    "        else:\n",
    "            token_files.append(tokens[i])\n",
    "    for i in range(len(token_files)):\n",
    "        after_lower.append(token_files[i].lower())\n",
    "    for i in range(len(after_lower)):\n",
    "        after_lemmatizer.append(wordnet_lemmatizer.lemmatize(after_lower[i]))\n",
    "        #after_stemming.append(porter_stemmer.stem(after_lower[i]))\n",
    "    return after_lemmatizer"
   ]
  },
  {
   "cell_type": "markdown",
   "metadata": {},
   "source": [
    "# Train-Test Data Splitting"
   ]
  },
  {
   "cell_type": "code",
   "execution_count": 29,
   "metadata": {},
   "outputs": [],
   "source": [
    "import os\n",
    "import math\n",
    "import codecs\n",
    "TF_Dictionary={}\n",
    "Docid=[]\n",
    "Class_dict={}\n",
    "parent=\"C:/Users/Devashi Jain/Desktop/IIIT-D/Information Retrieval/Assignment4/Classes\"\n",
    "for file_name in os.listdir(os.path.join(parent)): \n",
    "    for file in os.listdir(os.path.join(parent,file_name)):\n",
    "        doc=file_name+'/'+file\n",
    "        if file_name in Class_dict:\n",
    "            Class_dict[file_name].append(doc)\n",
    "        else:\n",
    "            Class_dict[file_name]=[doc]\n",
    "        Docid.append(doc)"
   ]
  },
  {
   "cell_type": "code",
   "execution_count": 96,
   "metadata": {},
   "outputs": [],
   "source": [
    "train=[]\n",
    "test=[]\n",
    "for term in Class_dict:\n",
    "    train.append(Class_dict[term][:int((len(Class_dict[term])+1)*.50)])\n",
    "    test.append(Class_dict[term][int(len(Class_dict[term])*.50):])"
   ]
  },
  {
   "cell_type": "code",
   "execution_count": 97,
   "metadata": {},
   "outputs": [],
   "source": [
    "train_data=[]\n",
    "test_data=[]\n",
    "for i in range(len(train)):\n",
    "    for j in range(len(train[i])):\n",
    "        train_data.append(train[i][j])\n",
    "for i in range(len(test)):\n",
    "    for j in range(len(test[i])):\n",
    "        test_data.append(test[i][j])"
   ]
  },
  {
   "cell_type": "code",
   "execution_count": 98,
   "metadata": {},
   "outputs": [
    {
     "name": "stdout",
     "output_type": "stream",
     "text": [
      "0\n"
     ]
    }
   ],
   "source": [
    "c=0\n",
    "for i in range(len(train_data)):\n",
    "    for j in range(len(test_data)):\n",
    "        if(train_data[i]==test_data[j]):\n",
    "            c=c+1\n",
    "print(c)\n"
   ]
  },
  {
   "cell_type": "code",
   "execution_count": 99,
   "metadata": {},
   "outputs": [
    {
     "name": "stdout",
     "output_type": "stream",
     "text": [
      "2500\n",
      "2500\n"
     ]
    }
   ],
   "source": [
    "print(len(train_data))\n",
    "print(len(test_data))"
   ]
  },
  {
   "cell_type": "markdown",
   "metadata": {},
   "source": [
    "# Vocab Dictionary"
   ]
  },
  {
   "cell_type": "code",
   "execution_count": 100,
   "metadata": {},
   "outputs": [],
   "source": [
    "import os\n",
    "import math\n",
    "import codecs\n",
    "TF_Dictionary={}\n",
    "Docid=[]\n",
    "parent=\"C:/Users/Devashi Jain/Desktop/IIIT-D/Information Retrieval/Assignment4/Classes\"\n",
    "for file_name in os.listdir(os.path.join(parent)): \n",
    "    for file in os.listdir(os.path.join(parent,file_name)):\n",
    "        doc=file_name+'/'+file\n",
    "        preprossed_file=[]\n",
    "        Normalized_TF={}\n",
    "        if doc in train_data:\n",
    "            fd=codecs.open(parent+'/'+file_name+'/'+file,'r',errors='ignore',encoding='utf-8')\n",
    "            preprossed_file=Pre_Processing(fd.read())\n",
    "            for i in range(len(preprossed_file)):\n",
    "\n",
    "                if preprossed_file[i] in Normalized_TF:\n",
    "                    Normalized_TF[preprossed_file[i]]+=1\n",
    "                else:\n",
    "                    Normalized_TF[preprossed_file[i]]=1\n",
    "\n",
    "\n",
    "            for i in range(len(preprossed_file)):\n",
    "                if preprossed_file[i] in TF_Dictionary:\n",
    "                    TF_Dictionary[preprossed_file[i]][doc]=Normalized_TF[preprossed_file[i]]\n",
    "                else:\n",
    "                    TF_Dictionary[preprossed_file[i]] = {doc:Normalized_TF[preprossed_file[i]]}\n",
    "\n",
    "       "
   ]
  },
  {
   "cell_type": "code",
   "execution_count": 101,
   "metadata": {},
   "outputs": [
    {
     "data": {
      "text/plain": [
       "36342"
      ]
     },
     "execution_count": 101,
     "metadata": {},
     "output_type": "execute_result"
    }
   ],
   "source": [
    "len(TF_Dictionary)"
   ]
  },
  {
   "cell_type": "markdown",
   "metadata": {},
   "source": [
    "# Document Dictionary"
   ]
  },
  {
   "cell_type": "code",
   "execution_count": 102,
   "metadata": {},
   "outputs": [],
   "source": [
    "import os\n",
    "import math\n",
    "import codecs\n",
    "\n",
    "Doc_Vec={}\n",
    "for doc1 in train_data:\n",
    "    c=0\n",
    "    for term in TF_Dictionary.keys():\n",
    "        if doc1 not in Doc_Vec:\n",
    "            Doc_Vec.setdefault(doc1,{})\n",
    "            Doc_Vec[doc1]={term:0}\n",
    "            c=c+1\n",
    "        else:\n",
    "            Doc_Vec[doc1][term]=0\n",
    "            c=c+1"
   ]
  },
  {
   "cell_type": "code",
   "execution_count": 103,
   "metadata": {},
   "outputs": [
    {
     "name": "stdout",
     "output_type": "stream",
     "text": [
      "2500\n"
     ]
    }
   ],
   "source": [
    "print(len(Doc_Vec))"
   ]
  },
  {
   "cell_type": "code",
   "execution_count": 104,
   "metadata": {},
   "outputs": [],
   "source": [
    "import math\n",
    "parent=\"C:/Users/Devashi Jain/Desktop/IIIT-D/Information Retrieval/Assignment4/Classes\"\n",
    "cl=[]\n",
    "for file_name in os.listdir(os.path.join(parent)): \n",
    "    for file in os.listdir(os.path.join(parent,file_name)):\n",
    "        doc=file_name+'/'+file\n",
    "        preprossed_file=[]\n",
    "        Normalized_TF={}\n",
    "        if doc in train_data:\n",
    "            cl.append(doc)\n",
    "            fd=codecs.open(parent+'/'+file_name+'/'+file,'r',errors='ignore',encoding='utf-8')\n",
    "            preprossed_file=Pre_Processing(fd.read())\n",
    "            for i in range(len(preprossed_file)):\n",
    "\n",
    "                if preprossed_file[i] in Normalized_TF:\n",
    "                    Normalized_TF[preprossed_file[i]]+=1\n",
    "                else:\n",
    "                    Normalized_TF[preprossed_file[i]]=1\n",
    "\n",
    "            for term in Doc_Vec[doc]:\n",
    "#                 IDF=1+math.log(3500/len(TF_Dictionary[term]))\n",
    "                if term in Normalized_TF:\n",
    "                    Doc_Vec[doc][term]=(Normalized_TF[term])\n",
    "                \n",
    "    "
   ]
  },
  {
   "cell_type": "markdown",
   "metadata": {},
   "source": [
    "# Class Dictionary"
   ]
  },
  {
   "cell_type": "code",
   "execution_count": 105,
   "metadata": {},
   "outputs": [],
   "source": [
    "Class_Vector={}\n",
    "for docid in Doc_Vec.keys():\n",
    "    for term in TF_Dictionary.keys():\n",
    "        label=docid.split('/')\n",
    "        if label[0] in Class_Vector:\n",
    "            if term in Class_Vector[label[0]]:\n",
    "                Class_Vector[label[0]][term]+=Doc_Vec[docid][term]\n",
    "            else:\n",
    "                Class_Vector[label[0]].update({term : Doc_Vec[docid][term]})\n",
    "        else :\n",
    "            Class_Vector[label[0]]={term:Doc_Vec[docid][term]}\n",
    "                    \n",
    "        \n",
    "\n",
    "        \n",
    "    "
   ]
  },
  {
   "cell_type": "code",
   "execution_count": 106,
   "metadata": {},
   "outputs": [
    {
     "name": "stdout",
     "output_type": "stream",
     "text": [
      "comp.graphics\n",
      "rec.sport.hockey\n",
      "sci.med\n",
      "sci.space\n",
      "talk.politics.misc\n"
     ]
    }
   ],
   "source": [
    "for term in Class_Vector:\n",
    "    print(term)"
   ]
  },
  {
   "cell_type": "code",
   "execution_count": 107,
   "metadata": {},
   "outputs": [
    {
     "name": "stdout",
     "output_type": "stream",
     "text": [
      "comp.graphics\n",
      "rec.sport.hockey\n",
      "sci.med\n",
      "sci.space\n",
      "talk.politics.misc\n"
     ]
    }
   ],
   "source": [
    "count={}\n",
    "for classes in Class_Vector:\n",
    "    print(classes)\n",
    "    s=0\n",
    "    for word in Class_Vector[classes]:\n",
    "            s+=Class_Vector[classes][word]\n",
    "    count[classes]=s"
   ]
  },
  {
   "cell_type": "code",
   "execution_count": 108,
   "metadata": {},
   "outputs": [],
   "source": [
    "import os\n",
    "import math\n",
    "import codecs\n",
    "Predicted=[]\n",
    "Actual=[]\n",
    "import operator\n",
    "parent=\"C:/Users/Devashi Jain/Desktop/IIIT-D/Information Retrieval/Assignment4/Classes\"\n",
    "for file_name in os.listdir(os.path.join(parent)): \n",
    "    for file in os.listdir(os.path.join(parent,file_name)):\n",
    "        doc=file_name+'/'+file\n",
    "        \n",
    "        if doc in test_data:\n",
    "            label=doc.split('/')\n",
    "            Actual.append(label[0])\n",
    "            fd=codecs.open(parent+'/'+file_name+'/'+file,'r',errors='ignore',encoding='utf-8')\n",
    "            preprossed_file=Pre_Processing(fd.read())\n",
    "            Naive_Bayes={}\n",
    "            for classes in Class_Vector:\n",
    "                x=0\n",
    "                for word in preprossed_file:\n",
    "                    if word in Class_Vector[classes]:\n",
    "                        y=math.log(((Class_Vector[classes][word])+1)/(count[classes]+len(TF_Dictionary)))\n",
    "                        x=x+y\n",
    "                Naive_Bayes[classes]=(x*(1/700))\n",
    "            Predicted.append(max(Naive_Bayes.items(), key=operator.itemgetter(1))[0])\n",
    "                       "
   ]
  },
  {
   "cell_type": "code",
   "execution_count": 109,
   "metadata": {},
   "outputs": [],
   "source": [
    "def Accuracy(Predicted,Actual):\n",
    "    c=0\n",
    "    for i in range(len(Actual)):\n",
    "        if Predicted[i]==Actual[i]:\n",
    "            c=c+1\n",
    "    return (c)/len(Actual)"
   ]
  },
  {
   "cell_type": "code",
   "execution_count": 110,
   "metadata": {},
   "outputs": [],
   "source": [
    "list1=['comp.graphics',\n",
    "'rec.sport.hockey',\n",
    "'sci.med',\n",
    "'sci.space',\n",
    "'talk.politics.misc']\n",
    "Predicted_label=[]\n",
    "for i in range(len(Predicted)):\n",
    "    if Predicted[i]==list1[0]:\n",
    "        Predicted_label.append((Predicted[i],0))\n",
    "    elif Predicted[i]==list1[1]:\n",
    "        Predicted_label.append((Predicted[i],1))\n",
    "    elif Predicted[i]==list1[2]:\n",
    "        Predicted_label.append((Predicted[i],2))\n",
    "    elif Predicted[i]==list1[3]:\n",
    "        Predicted_label.append((Predicted[i],3))\n",
    "    elif Predicted[i]==list1[4]:\n",
    "        Predicted_label.append((Predicted[i],4))\n",
    "Actual_label=[]\n",
    "for i in range(len(Actual)):\n",
    "    if Actual[i]==list1[0]:\n",
    "        Actual_label.append((Actual[i],0))\n",
    "    if Actual[i]==list1[1]:\n",
    "        Actual_label.append((Actual[i],1))\n",
    "    if Actual[i]==list1[2]:\n",
    "        Actual_label.append((Actual[i],2))\n",
    "    if Actual[i]==list1[3]:\n",
    "        Actual_label.append((Actual[i],3))\n",
    "    if Actual[i]==list1[4]:\n",
    "        Actual_label.append((Actual[i],4))"
   ]
  },
  {
   "cell_type": "code",
   "execution_count": 111,
   "metadata": {},
   "outputs": [
    {
     "data": {
      "text/plain": [
       "0.954"
      ]
     },
     "execution_count": 111,
     "metadata": {},
     "output_type": "execute_result"
    }
   ],
   "source": [
    "1431/1500"
   ]
  },
  {
   "cell_type": "code",
   "execution_count": 112,
   "metadata": {},
   "outputs": [
    {
     "name": "stdout",
     "output_type": "stream",
     "text": [
      "Accuracy is : 0.9544\n",
      "[484.   2.   4.   7.   3.]\n",
      "[  2. 492.   1.   2.   3.]\n",
      "[ 25.   3. 450.   7.  15.]\n",
      "[ 15.   0.   3. 468.  14.]\n",
      "[  2.   0.   2.   4. 492.]\n"
     ]
    },
    {
     "data": {
      "text/plain": [
       "<matplotlib.axes._subplots.AxesSubplot at 0x23e81375cf8>"
      ]
     },
     "execution_count": 112,
     "metadata": {},
     "output_type": "execute_result"
    },
    {
     "data": {
      "image/png": "[encoded data removed]",
      "text/plain": [
       "<Figure size 432x288 with 2 Axes>"
      ]
     },
     "metadata": {
      "needs_background": "light"
     },
     "output_type": "display_data"
    }
   ],
   "source": [
    "import seaborn as sns\n",
    "import numpy as np\n",
    "def ConfusionMatrix(Actual,Predicted):\n",
    "    confusion_matrix=np.zeros((5,5))\n",
    "    for i in range(len(Actual)):\n",
    "        confusion_matrix[int(Actual[i][1])][int(Predicted[i][1])]=(confusion_matrix[int(Actual[i][1])][int(Predicted[i][1])])+1\n",
    "    return confusion_matrix\n",
    "accuracy=Accuracy(Predicted,Actual)\n",
    "print(\"Accuracy is :\",accuracy)\n",
    "confusion_matrix=ConfusionMatrix(Actual_label,Predicted_label)\n",
    "for i in range(len(confusion_matrix)):\n",
    "    print(confusion_matrix[i])\n",
    "sns.heatmap(confusion_matrix,annot=True)"
   ]
  },
  {
   "cell_type": "code",
   "execution_count": null,
   "metadata": {},
   "outputs": [],
   "source": []
  }
 ],
 "metadata": {
  "kernelspec": {
   "display_name": "Python 3",
   "language": "python",
   "name": "python3"
  },
  "language_info": {
   "codemirror_mode": {
    "name": "ipython",
    "version": 3
   },
   "file_extension": ".py",
   "mimetype": "text/x-python",
   "name": "python",
   "nbconvert_exporter": "python",
   "pygments_lexer": "ipython3",
   "version": "3.7.0"
  }
 },
 "nbformat": 4,
 "nbformat_minor": 2
}
