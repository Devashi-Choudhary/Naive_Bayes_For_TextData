{
 "cells": [
  {
   "cell_type": "markdown",
   "metadata": {},
   "source": [
    "# Preprocessing"
   ]
  },
  {
   "cell_type": "code",
   "execution_count": 41,
   "metadata": {},
   "outputs": [],
   "source": [
    "from nltk.tokenize import RegexpTokenizer\n",
    "from nltk.stem import WordNetLemmatizer\n",
    "wordnet_lemmatizer = WordNetLemmatizer()\n",
    "from nltk.stem.porter import PorterStemmer\n",
    "porter_stemmer  = PorterStemmer()\n",
    "import re\n",
    "import inflect\n",
    "def Pre_Processing(file):\n",
    "    token_files=[] \n",
    "    after_lower=[]\n",
    "    after_lemmatizer=[]\n",
    "    after_stemming=[]\n",
    "    tokenizer = RegexpTokenizer(r'\\w+')\n",
    "    tokens=(tokenizer.tokenize(file))\n",
    "    p = inflect.engine()\n",
    "    token_files=[]\n",
    "    for i in range(len(tokens)):\n",
    "        if tokens[i].isnumeric() and len(tokens[i])<36:\n",
    "            tem=p.number_to_words((tokens[i]))\n",
    "            tokenizer = RegexpTokenizer(r'\\w+')\n",
    "            temp=(tokenizer.tokenize(tem))\n",
    "            for x in temp:\n",
    "                token_files.append(x)\n",
    "        elif tokens[i].isnumeric() and len(tokens[i])>36:\n",
    "            for j in range(len(tokens[i])):\n",
    "                token_files.append(p.number_to_words((tokens[i][j])))\n",
    "        else:\n",
    "            token_files.append(tokens[i])\n",
    "    for i in range(len(token_files)):\n",
    "        after_lower.append(token_files[i].lower())\n",
    "    for i in range(len(after_lower)):\n",
    "        after_lemmatizer.append(wordnet_lemmatizer.lemmatize(after_lower[i]))\n",
    "        #after_stemming.append(porter_stemmer.stem(after_lower[i]))\n",
    "    return after_lemmatizer\n"
   ]
  },
  {
   "cell_type": "markdown",
   "metadata": {},
   "source": [
    "# Train-Test Data Splitting"
   ]
  },
  {
   "cell_type": "code",
   "execution_count": 42,
   "metadata": {},
   "outputs": [],
   "source": [
    "import os\n",
    "import math\n",
    "import codecs\n",
    "TF_Dictionary={}\n",
    "Docid=[]\n",
    "Class_dict={}\n",
    "parent=\"C:/Users/Devashi Jain/Desktop/IIIT-D/Information Retrieval/Assignment4/Classes\"\n",
    "for file_name in os.listdir(os.path.join(parent)): \n",
    "    for file in os.listdir(os.path.join(parent,file_name)):\n",
    "        doc=file_name+'/'+file\n",
    "        if file_name in Class_dict:\n",
    "            Class_dict[file_name].append(doc)\n",
    "        else:\n",
    "            Class_dict[file_name]=[doc]\n",
    "        Docid.append(doc)"
   ]
  },
  {
   "cell_type": "code",
   "execution_count": 43,
   "metadata": {},
   "outputs": [],
   "source": [
    "train=[]\n",
    "test=[]\n",
    "for term in Class_dict:\n",
    "    train.append(Class_dict[term][:int((len(Class_dict[term])+1)*.70)])\n",
    "    test.append(Class_dict[term][int(len(Class_dict[term])*.70):])"
   ]
  },
  {
   "cell_type": "code",
   "execution_count": 44,
   "metadata": {},
   "outputs": [],
   "source": [
    "train_data=[]\n",
    "test_data=[]\n",
    "for i in range(len(train)):\n",
    "    for j in range(len(train[i])):\n",
    "        train_data.append(train[i][j])\n",
    "for i in range(len(test)):\n",
    "    for j in range(len(test[i])):\n",
    "        test_data.append(test[i][j])"
   ]
  },
  {
   "cell_type": "code",
   "execution_count": 45,
   "metadata": {},
   "outputs": [
    {
     "name": "stdout",
     "output_type": "stream",
     "text": [
      "0\n"
     ]
    }
   ],
   "source": [
    "c=0\n",
    "for i in range(len(train_data)):\n",
    "    for j in range(len(test_data)):\n",
    "        if(train_data[i]==test_data[j]):\n",
    "            c=c+1\n",
    "print(c)\n"
   ]
  },
  {
   "cell_type": "markdown",
   "metadata": {},
   "source": [
    "# Vocab Dictionary"
   ]
  },
  {
   "cell_type": "code",
   "execution_count": 46,
   "metadata": {},
   "outputs": [],
   "source": [
    "import os\n",
    "import math\n",
    "import codecs\n",
    "TF_Dictionary={}\n",
    "Docid=[]\n",
    "parent=\"C:/Users/Devashi Jain/Desktop/IIIT-D/Information Retrieval/Assignment4/Classes\"\n",
    "for file_name in os.listdir(os.path.join(parent)): \n",
    "    for file in os.listdir(os.path.join(parent,file_name)):\n",
    "        doc=file_name+'/'+file\n",
    "        preprossed_file=[]\n",
    "        Normalized_TF={}\n",
    "        if doc in train_data:\n",
    "            fd=codecs.open(parent+'/'+file_name+'/'+file,'r',errors='ignore',encoding='utf-8')\n",
    "            preprossed_file=Pre_Processing(fd.read())\n",
    "            for i in range(len(preprossed_file)):\n",
    "\n",
    "                if preprossed_file[i] in Normalized_TF:\n",
    "                    Normalized_TF[preprossed_file[i]]+=1\n",
    "                else:\n",
    "                    Normalized_TF[preprossed_file[i]]=1\n",
    "\n",
    "\n",
    "            for i in range(len(preprossed_file)):\n",
    "                if preprossed_file[i] in TF_Dictionary:\n",
    "                    TF_Dictionary[preprossed_file[i]][doc]=Normalized_TF[preprossed_file[i]]\n",
    "                else:\n",
    "                    TF_Dictionary[preprossed_file[i]] = {doc:Normalized_TF[preprossed_file[i]]}\n",
    "\n",
    "       "
   ]
  },
  {
   "cell_type": "code",
   "execution_count": 47,
   "metadata": {},
   "outputs": [],
   "source": [
    "import math\n",
    "for term in TF_Dictionary:\n",
    "    IDF=1+math.log(3500/len(TF_Dictionary[term]))\n",
    "    for file in TF_Dictionary[term]:\n",
    "        TF_Dictionary[term][file]*=IDF"
   ]
  },
  {
   "cell_type": "code",
   "execution_count": 48,
   "metadata": {},
   "outputs": [],
   "source": [
    "TF_IDF_Dictionary={}\n",
    "for term in TF_Dictionary:\n",
    "    t=0\n",
    "    for doc in TF_Dictionary[term]:\n",
    "        t=t+TF_Dictionary[term][doc]\n",
    "    TF_IDF_Dictionary[term]=t"
   ]
  },
  {
   "cell_type": "code",
   "execution_count": 49,
   "metadata": {},
   "outputs": [],
   "source": [
    "Top_Features={}\n",
    "n=int(len(TF_IDF_Dictionary)*0.6)\n",
    "t = sorted(TF_IDF_Dictionary.items(), key=lambda x:-x[1])[:n]\n",
    "for i in range(len(t)):\n",
    "    Top_Features[t[i][0]]=t[i][1]"
   ]
  },
  {
   "cell_type": "markdown",
   "metadata": {},
   "source": [
    "# Document Dictionary"
   ]
  },
  {
   "cell_type": "code",
   "execution_count": 50,
   "metadata": {},
   "outputs": [],
   "source": [
    "import os\n",
    "import math\n",
    "import codecs\n",
    "\n",
    "Doc_Vec={}\n",
    "for doc1 in train_data:\n",
    "    c=0\n",
    "    for term in Top_Features.keys():\n",
    "        if doc1 not in Doc_Vec:\n",
    "            Doc_Vec.setdefault(doc1,{})\n",
    "            Doc_Vec[doc1]={term:0}\n",
    "            c=c+1\n",
    "        else:\n",
    "            Doc_Vec[doc1][term]=0\n",
    "            c=c+1"
   ]
  },
  {
   "cell_type": "code",
   "execution_count": 51,
   "metadata": {},
   "outputs": [],
   "source": [
    "import math\n",
    "parent=\"C:/Users/Devashi Jain/Desktop/IIIT-D/Information Retrieval/Assignment4/Classes\"\n",
    "for file_name in os.listdir(os.path.join(parent)): \n",
    "    for file in os.listdir(os.path.join(parent,file_name)):\n",
    "        doc=file_name+'/'+file\n",
    "        preprossed_file=[]\n",
    "        Normalized_TF={}\n",
    "        if doc in train_data:\n",
    "            fd=codecs.open(parent+'/'+file_name+'/'+file,'r',errors='ignore',encoding='utf-8')\n",
    "            preprossed_file=Pre_Processing(fd.read())\n",
    "            for i in range(len(preprossed_file)):\n",
    "\n",
    "                if preprossed_file[i] in Normalized_TF:\n",
    "                    Normalized_TF[preprossed_file[i]]+=1\n",
    "                else:\n",
    "                    Normalized_TF[preprossed_file[i]]=1\n",
    "\n",
    "            for term in Doc_Vec[doc]:\n",
    "                if term in Normalized_TF:\n",
    "                    Doc_Vec[doc][term]=Normalized_TF[term]\n",
    "                \n",
    "    "
   ]
  },
  {
   "cell_type": "markdown",
   "metadata": {},
   "source": [
    "# Class Dictionary"
   ]
  },
  {
   "cell_type": "code",
   "execution_count": 52,
   "metadata": {},
   "outputs": [],
   "source": [
    "Class_Vector={}\n",
    "for docid in Doc_Vec.keys():\n",
    "    for term in Top_Features.keys():\n",
    "        label=docid.split('/')\n",
    "        if label[0] in Class_Vector:\n",
    "            if term in Class_Vector[label[0]]:\n",
    "                Class_Vector[label[0]][term]+=Doc_Vec[docid][term]\n",
    "            else:\n",
    "                Class_Vector[label[0]].update({term : Doc_Vec[docid][term]})\n",
    "        else :\n",
    "            Class_Vector[label[0]]={term:Doc_Vec[docid][term]}\n",
    "                    \n",
    "        \n",
    "\n",
    "        \n",
    "    "
   ]
  },
  {
   "cell_type": "code",
   "execution_count": 53,
   "metadata": {},
   "outputs": [
    {
     "name": "stdout",
     "output_type": "stream",
     "text": [
      "comp.graphics\n",
      "rec.sport.hockey\n",
      "sci.med\n",
      "sci.space\n",
      "talk.politics.misc\n"
     ]
    }
   ],
   "source": [
    "for term in Class_Vector:\n",
    "    print(term)"
   ]
  },
  {
   "cell_type": "code",
   "execution_count": 54,
   "metadata": {},
   "outputs": [
    {
     "name": "stdout",
     "output_type": "stream",
     "text": [
      "comp.graphics\n",
      "rec.sport.hockey\n",
      "sci.med\n",
      "sci.space\n",
      "talk.politics.misc\n"
     ]
    }
   ],
   "source": [
    "count={}\n",
    "for classes in Class_Vector:\n",
    "    print(classes)\n",
    "    s=0\n",
    "    for word in Class_Vector[classes]:\n",
    "            s+=Class_Vector[classes][word]\n",
    "    count[classes]=s"
   ]
  },
  {
   "cell_type": "code",
   "execution_count": 55,
   "metadata": {},
   "outputs": [
    {
     "name": "stdout",
     "output_type": "stream",
     "text": [
      "{'comp.graphics': 279774, 'rec.sport.hockey': 305145, 'sci.med': 319363, 'sci.space': 309015, 'talk.politics.misc': 407333}\n"
     ]
    }
   ],
   "source": [
    "print(count)"
   ]
  },
  {
   "cell_type": "code",
   "execution_count": 62,
   "metadata": {},
   "outputs": [],
   "source": [
    "import os\n",
    "import math\n",
    "import codecs\n",
    "Predicted=[]\n",
    "Actual=[]\n",
    "import operator\n",
    "parent=\"C:/Users/Devashi Jain/Desktop/IIIT-D/Information Retrieval/Assignment4/Classes\"\n",
    "for file_name in os.listdir(os.path.join(parent)): \n",
    "    for file in os.listdir(os.path.join(parent,file_name)):\n",
    "        doc=file_name+'/'+file\n",
    "        \n",
    "        if doc in test_data:\n",
    "            label=doc.split('/')\n",
    "            Actual.append(label[0])\n",
    "            fd=codecs.open(parent+'/'+file_name+'/'+file,'r',errors='ignore',encoding='utf-8')\n",
    "            preprossed_file=Pre_Processing(fd.read())\n",
    "            Naive_Bayes={}\n",
    "            for classes in Class_Vector:\n",
    "                x=0\n",
    "                for word in preprossed_file:\n",
    "                    if word in Class_Vector[classes]:\n",
    "                        y=math.log(((Class_Vector[classes][word])+1)/(count[classes]+len(TF_Dictionary)))\n",
    "                        x=x+y\n",
    "                Naive_Bayes[classes]=(x*(1/700))\n",
    "            Predicted.append(max(Naive_Bayes.items(), key=operator.itemgetter(1))[0])\n",
    "                       "
   ]
  },
  {
   "cell_type": "code",
   "execution_count": 66,
   "metadata": {},
   "outputs": [],
   "source": [
    "def Accuracy(Predicted,Actual):\n",
    "    c=0\n",
    "    for i in range(len(Actual)):\n",
    "        if Predicted[i]==Actual[i]:\n",
    "            c=c+1\n",
    "    return (c)/len(Actual)"
   ]
  },
  {
   "cell_type": "code",
   "execution_count": 67,
   "metadata": {},
   "outputs": [],
   "source": [
    "list1=['comp.graphics',\n",
    "'rec.sport.hockey',\n",
    "'sci.med',\n",
    "'sci.space',\n",
    "'talk.politics.misc']\n",
    "Predicted_label=[]\n",
    "for i in range(len(Predicted)):\n",
    "    if Predicted[i]==list1[0]:\n",
    "        Predicted_label.append((Predicted[i],0))\n",
    "    elif Predicted[i]==list1[1]:\n",
    "        Predicted_label.append((Predicted[i],1))\n",
    "    elif Predicted[i]==list1[2]:\n",
    "        Predicted_label.append((Predicted[i],2))\n",
    "    elif Predicted[i]==list1[3]:\n",
    "        Predicted_label.append((Predicted[i],3))\n",
    "    elif Predicted[i]==list1[4]:\n",
    "        Predicted_label.append((Predicted[i],4))\n",
    "Actual_label=[]\n",
    "for i in range(len(Actual)):\n",
    "    if Actual[i]==list1[0]:\n",
    "        Actual_label.append((Actual[i],0))\n",
    "    if Actual[i]==list1[1]:\n",
    "        Actual_label.append((Actual[i],1))\n",
    "    if Actual[i]==list1[2]:\n",
    "        Actual_label.append((Actual[i],2))\n",
    "    if Actual[i]==list1[3]:\n",
    "        Actual_label.append((Actual[i],3))\n",
    "    if Actual[i]==list1[4]:\n",
    "        Actual_label.append((Actual[i],4))"
   ]
  },
  {
   "cell_type": "code",
   "execution_count": 69,
   "metadata": {},
   "outputs": [
    {
     "name": "stdout",
     "output_type": "stream",
     "text": [
      "Accuracy is : 0.956\n",
      "[287.   2.   1.   7.   3.]\n",
      "[  0. 296.   1.   0.   3.]\n",
      "[ 19.   3. 274.   1.   3.]\n",
      "[  8.   0.   2. 280.  10.]\n",
      "[  2.   0.   1.   0. 297.]\n"
     ]
    },
    {
     "data": {
      "text/plain": [
       "<matplotlib.axes._subplots.AxesSubplot at 0x1ecc3491d30>"
      ]
     },
     "execution_count": 69,
     "metadata": {},
     "output_type": "execute_result"
    },
    {
     "data": {
      "image/png": "[encoded data removed]",
      "text/plain": [
       "<Figure size 432x288 with 2 Axes>"
      ]
     },
     "metadata": {
      "needs_background": "light"
     },
     "output_type": "display_data"
    }
   ],
   "source": [
    "import seaborn as sns\n",
    "import numpy as np\n",
    "def ConfusionMatrix(Actual,Predicted):\n",
    "    confusion_matrix=np.zeros((5,5))\n",
    "    for i in range(len(Actual)):\n",
    "        confusion_matrix[int(Actual[i][1])][int(Predicted[i][1])]=(confusion_matrix[int(Actual[i][1])][int(Predicted[i][1])])+1\n",
    "    return confusion_matrix\n",
    "accuracy=Accuracy(Predicted,Actual)\n",
    "print(\"Accuracy is :\",accuracy)\n",
    "confusion_matrix=ConfusionMatrix(Actual_label,Predicted_label)\n",
    "for i in range(len(confusion_matrix)):\n",
    "    print(confusion_matrix[i])\n",
    "sns.heatmap(confusion_matrix,annot=True)"
   ]
  },
  {
   "cell_type": "code",
   "execution_count": null,
   "metadata": {},
   "outputs": [],
   "source": []
  }
 ],
 "metadata": {
  "kernelspec": {
   "display_name": "Python 3",
   "language": "python",
   "name": "python3"
  },
  "language_info": {
   "codemirror_mode": {
    "name": "ipython",
    "version": 3
   },
   "file_extension": ".py",
   "mimetype": "text/x-python",
   "name": "python",
   "nbconvert_exporter": "python",
   "pygments_lexer": "ipython3",
   "version": "3.7.0"
  }
 },
 "nbformat": 4,
 "nbformat_minor": 2
}
